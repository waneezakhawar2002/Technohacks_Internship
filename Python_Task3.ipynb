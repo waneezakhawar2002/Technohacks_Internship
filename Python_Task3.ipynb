{
 "cells": [
  {
   "cell_type": "code",
   "execution_count": 6,
   "id": "92ac6e63",
   "metadata": {},
   "outputs": [
    {
     "name": "stdout",
     "output_type": "stream",
     "text": [
      "Enter Temperature: 100\n",
      "Enter Tempaertaure Unit (C or F): C\n",
      "Tempaerature in degree Fahrenheit is 212.0 'F\n"
     ]
    }
   ],
   "source": [
    "\"\"\"\n",
    "Create a program that allows the user to convert temperatures between Fahrenheit and Celsius.\n",
    "\"\"\"\n",
    "\n",
    "# Temperature Convertor (Fahrenheit and Celsius)\n",
    "\n",
    "def F_to_C(temp_in):\n",
    "    temp_out = (temp_in - 32)*(5/9)\n",
    "    return temp_out\n",
    "\n",
    "def C_to_F(temp_in):\n",
    "    temp_out = ((9/5)*temp_in) + 32\n",
    "    return temp_out\n",
    "\n",
    "temp_in = float(input(\"Enter Temperature: \"))\n",
    "temp_unit = input(\"Enter Tempaertaure Unit (C or F): \").upper()\n",
    "\n",
    "if (temp_unit == 'F'):\n",
    "    temp_out = F_to_C(temp_in)\n",
    "    print(f\"Tempaerature in degree Celsius is {temp_out} 'C\")\n",
    "elif (temp_unit == 'C'):\n",
    "    temp_out = C_to_F(temp_in)\n",
    "    print(f\"Tempaerature in degree Fahrenheit is {temp_out} 'F\")\n",
    "else:\n",
    "    raise Exception(\"Invalid Temperature Unit!\")\n",
    "\n",
    "    "
   ]
  },
  {
   "cell_type": "code",
   "execution_count": null,
   "id": "24a59e39",
   "metadata": {},
   "outputs": [],
   "source": []
  }
 ],
 "metadata": {
  "kernelspec": {
   "display_name": "Python 3 (ipykernel)",
   "language": "python",
   "name": "python3"
  },
  "language_info": {
   "codemirror_mode": {
    "name": "ipython",
    "version": 3
   },
   "file_extension": ".py",
   "mimetype": "text/x-python",
   "name": "python",
   "nbconvert_exporter": "python",
   "pygments_lexer": "ipython3",
   "version": "3.9.18"
  }
 },
 "nbformat": 4,
 "nbformat_minor": 5
}
