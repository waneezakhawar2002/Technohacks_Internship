{
 "cells": [
  {
   "cell_type": "code",
   "execution_count": 7,
   "id": "3a58d7d8",
   "metadata": {},
   "outputs": [
    {
     "name": "stdout",
     "output_type": "stream",
     "text": [
      "Enter the desired length for the password: 25\n",
      "Generated Password: w`|OzC/%4.EEPgD2E'wg>,u*|\n"
     ]
    }
   ],
   "source": [
    "\"\"\"\n",
    "Create a program that generates a random password of a user-defined length.\n",
    "\"\"\"\n",
    "\n",
    "import random\n",
    "import string\n",
    "\n",
    "def generate_password(length):\n",
    "    # Define the characters to be used in the password\n",
    "    characters = string.ascii_letters + string.digits + string.punctuation\n",
    "    \n",
    "    # Generate a random password by selecting characters randomly\n",
    "    password = ''.join(random.choice(characters) for i in range(length))\n",
    "    \n",
    "    return password\n",
    "\n",
    "# Get user input for the desired password length\n",
    "try:\n",
    "    length = int(input(\"Enter the desired length for the password: \"))\n",
    "except ValueError:\n",
    "    print(\"Please enter a valid number for the password length.\")\n",
    "    exit()\n",
    "\n",
    "# Generate and display the random password\n",
    "password = generate_password(length)\n",
    "print(\"Generated Password:\", password)\n"
   ]
  },
  {
   "cell_type": "code",
   "execution_count": null,
   "id": "1d692f71",
   "metadata": {},
   "outputs": [],
   "source": []
  }
 ],
 "metadata": {
  "kernelspec": {
   "display_name": "Python 3 (ipykernel)",
   "language": "python",
   "name": "python3"
  },
  "language_info": {
   "codemirror_mode": {
    "name": "ipython",
    "version": 3
   },
   "file_extension": ".py",
   "mimetype": "text/x-python",
   "name": "python",
   "nbconvert_exporter": "python",
   "pygments_lexer": "ipython3",
   "version": "3.9.18"
  }
 },
 "nbformat": 4,
 "nbformat_minor": 5
}
