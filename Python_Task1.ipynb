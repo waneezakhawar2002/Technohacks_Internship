{
 "cells": [
  {
   "cell_type": "code",
   "execution_count": 24,
   "id": "ff4c2fb5",
   "metadata": {},
   "outputs": [
    {
     "name": "stdout",
     "output_type": "stream",
     "text": [
      "Enter 1st number: 785\n",
      "Enter operation (+, -, *, /): *\n",
      "Enter 2nd number: 45\n",
      "Answer:\n",
      "785 * 45 = 35325\n"
     ]
    }
   ],
   "source": [
    "\"\"\"\n",
    "Create a basic calculator that can perform basic arithmetic operations such as addition, subtraction, \n",
    "multiplication, and division.using functions.\n",
    "\n",
    "\"\"\"\n",
    "\n",
    "def Add(num1, num2):\n",
    "    return num1+num2\n",
    "\n",
    "def Sub(num1, num2):\n",
    "    return num1-num2\n",
    "\n",
    "def Mul(num1, num2):\n",
    "    return num1*num2\n",
    "\n",
    "def Div(num1, num2):\n",
    "    return num1/num2\n",
    "\n",
    "num1 = int(input(\"Enter 1st number: \"))\n",
    "operation = input(\"Enter operation (+, -, *, /): \")\n",
    "num2= int(input(\"Enter 2nd number: \"))\n",
    "if (operation == '+'):\n",
    "    answer = Add(num1, num2)\n",
    "elif (operation == '-'):\n",
    "    answer = Sub(num1, num2)\n",
    "elif (operation == '*'):\n",
    "    answer = Mul(num1, num2)\n",
    "elif (operation == '/'):\n",
    "    answer = Div(num1, num2)\n",
    "else:\n",
    "    raise Exception(\"Invalid Operation!\")\n",
    "\n",
    "print(f\"Answer:\\n{num1} {operation} {num2} = {answer}\")\n"
   ]
  },
  {
   "cell_type": "code",
   "execution_count": null,
   "id": "d1a42afd",
   "metadata": {},
   "outputs": [],
   "source": []
  },
  {
   "cell_type": "code",
   "execution_count": null,
   "id": "41603d39",
   "metadata": {},
   "outputs": [],
   "source": []
  }
 ],
 "metadata": {
  "kernelspec": {
   "display_name": "Python 3 (ipykernel)",
   "language": "python",
   "name": "python3"
  },
  "language_info": {
   "codemirror_mode": {
    "name": "ipython",
    "version": 3
   },
   "file_extension": ".py",
   "mimetype": "text/x-python",
   "name": "python",
   "nbconvert_exporter": "python",
   "pygments_lexer": "ipython3",
   "version": "3.9.18"
  }
 },
 "nbformat": 4,
 "nbformat_minor": 5
}
